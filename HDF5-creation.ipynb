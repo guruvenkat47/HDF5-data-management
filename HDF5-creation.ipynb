{
 "cells": [
  {
   "cell_type": "code",
   "execution_count": 3,
   "metadata": {},
   "outputs": [],
   "source": [
    "import h5py as h5\n",
    "import pylab as pl\n",
    "import os\n",
    "import time\n",
    "import json"
   ]
  },
  {
   "cell_type": "code",
   "execution_count": 66,
   "metadata": {},
   "outputs": [],
   "source": [
    "class HDF5:\n",
    "    '''This is a class for creating HDF5 files'''\n",
    "    \n",
    "    def f_creation(self, HDF5fname, grpname, struct_name, dfname, averages, Vpp):\n",
    "        ''' \n",
    "            This is a function to create an HDF5 file.\n",
    "            The data is organized into groups which in\n",
    "            my case corresponds to a particular type of\n",
    "            measurement (over here this are MOKE MH loops).\n",
    "            \n",
    "            Other groups should be created for other types of\n",
    "            measurement data for this sample.\n",
    "            \n",
    "        '''\n",
    "        with h5.File(HDF5fname, 'w') as f:\n",
    "    \n",
    "            g = f.create_group(grpname)\n",
    "            \n",
    "            if grpname == 'MH_loops':\n",
    "                \n",
    "                g_metadata = {'Date': time.time(),\n",
    "                            'User': 'Guru',\n",
    "                            'Axes':['Time', 'X field', 'Y field', \n",
    "                                    'Kerr signal', 'Ref', 'Processed'],\n",
    "                            'Units':['s', 'A/m', 'A/m', \n",
    "                                     'V', 'V', 'V']},\n",
    "                m = g.create_dataset('metadata', data=json.dumps(g_metadata))\n",
    "    \n",
    "                dsquare = g.create_dataset(struct_name,\n",
    "                        data=pl.loadtxt(dfname, skiprows=3))\n",
    "    \n",
    "                dsquare.attrs['averages'] = averages\n",
    "                dsquare.attrs['Vpp'] = Vpp\n",
    "            \n",
    "    def f_readout(self, HDF5fname, grpname, struct_name, query):\n",
    "        '''\n",
    "            This is a function to read in an HDF5 file for\n",
    "            processing data. Note that (especially if the data\n",
    "            is large), then data processing may need to be done\n",
    "            with the HDF5 file open\n",
    "        \n",
    "        '''\n",
    "        with h5.File(HDF5fname, 'r') as f:\n",
    "    \n",
    "            if query == 'data':\n",
    "            \n",
    "                return f[grpname+'/'+struct_name][:]\n",
    "            \n",
    "            elif query == 'metadata':\n",
    "                \n",
    "                return json.loads(f[grpname+'/metadata'][()])[0]"
   ]
  },
  {
   "cell_type": "code",
   "execution_count": 74,
   "metadata": {},
   "outputs": [
    {
     "name": "stdout",
     "output_type": "stream",
     "text": [
      "(741, 6)\n",
      "dict_keys(['Date', 'User', 'Axes', 'Units'])\n"
     ]
    }
   ],
   "source": [
    "x = HDF5()\n",
    "x.f_creation(HDF5fname = 'IBM_bi_ring_S1.hdf5',\n",
    "             grpname = 'MH_loops',\n",
    "             struct_name = 'Square_marker',\n",
    "             dfname = 'IBM-S1-square-marker-v1-corrected.dat',\n",
    "             averages = 256, Vpp = 8)\n",
    "\n",
    "d = x.f_readout(HDF5fname = 'IBM_bi_ring_S1.hdf5',\n",
    "             grpname = 'MH_loops',\n",
    "             struct_name = 'Square_marker',\n",
    "             query = 'data')\n",
    "\n",
    "print(d.shape)\n",
    "\n",
    "m = x.f_readout(HDF5fname = 'IBM_bi_ring_S1.hdf5',\n",
    "             grpname = 'MH_loops',\n",
    "             struct_name = 'Square_marker',\n",
    "             query = 'metadata')\n",
    "\n",
    "print(m.keys())"
   ]
  },
  {
   "cell_type": "code",
   "execution_count": null,
   "metadata": {},
   "outputs": [],
   "source": []
  }
 ],
 "metadata": {
  "kernelspec": {
   "display_name": "Python 3",
   "language": "python",
   "name": "python3"
  },
  "language_info": {
   "codemirror_mode": {
    "name": "ipython",
    "version": 3
   },
   "file_extension": ".py",
   "mimetype": "text/x-python",
   "name": "python",
   "nbconvert_exporter": "python",
   "pygments_lexer": "ipython3",
   "version": "3.7.8"
  }
 },
 "nbformat": 4,
 "nbformat_minor": 4
}
